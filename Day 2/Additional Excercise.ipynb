{
 "cells": [
  {
   "cell_type": "markdown",
   "metadata": {},
   "source": [
    "### The function \"echo_name\" takes 2 parameters: a string value, \"name1\"and an integer value, \"echo_int\". It returns a string that is a concatenation of \"echo_int\" copies of \"name1\". Your task is to convert this simple function into a lambda function."
   ]
  },
  {
   "cell_type": "code",
   "execution_count": 2,
   "metadata": {},
   "outputs": [
    {
     "data": {
      "text/plain": [
       "'acadgildacadgildacadgildacadgildacadgild'"
      ]
     },
     "execution_count": 2,
     "metadata": {},
     "output_type": "execute_result"
    }
   ],
   "source": [
    "# Define the lamdba function\n",
    "echo_name = lambda name1, echo_int : name1 * echo_int\n",
    "\n",
    "# Use the lamdba function\n",
    "echo_name(\"acadgild\", 5)"
   ]
  },
  {
   "cell_type": "markdown",
   "metadata": {},
   "source": [
    "### Convert temperature in Celsius to Fahrenheit using map() and lambda functions"
   ]
  },
  {
   "cell_type": "code",
   "execution_count": 8,
   "metadata": {},
   "outputs": [
    {
     "name": "stdout",
     "output_type": "stream",
     "text": [
      "Temperature in Farenheit is : [73.4, 75.2]\n"
     ]
    }
   ],
   "source": [
    "print (\"Temperature in Farenheit is :\" ,list(map(lambda c_temp: (c_temp * (9/5)) + 32, [23, 24])))"
   ]
  },
  {
   "cell_type": "markdown",
   "metadata": {},
   "source": [
    "### print the letters that are vowels using filter and lambda functions"
   ]
  },
  {
   "cell_type": "code",
   "execution_count": 24,
   "metadata": {},
   "outputs": [
    {
     "data": {
      "text/plain": [
       "['e', 'o', 'e', 'o', 'A', 'a', 'i']"
      ]
     },
     "execution_count": 24,
     "metadata": {},
     "output_type": "execute_result"
    }
   ],
   "source": [
    "sample_string = \"Welcome to AcadGild\"\n",
    "# Convert the string into a list\n",
    "str_list = [ i for i in iter(sample_string)]\n",
    "\n",
    "# Write the filter function\n",
    "list(filter(lambda str_l : True if str_l.lower() in ['a', 'e', 'i', 'o', 'u'] else False , str_list))"
   ]
  },
  {
   "cell_type": "markdown",
   "metadata": {},
   "source": [
    "### Use generator expression to print out only alphabets from the following string"
   ]
  },
  {
   "cell_type": "code",
   "execution_count": 35,
   "metadata": {},
   "outputs": [
    {
     "name": "stdout",
     "output_type": "stream",
     "text": [
      "Size of iterator  :  264\n",
      "Size of Generator :  120\n",
      "Aphabets are :  WelcometoacadGild\n"
     ]
    }
   ],
   "source": [
    "from sys import getsizeof\n",
    "string = \"123@Welc34ometo12@ac#adGild\"\n",
    "# Generators occupy lesser memory size\n",
    "alpha_lst = [x for x in string if x.isalpha()]\n",
    "alpha_gen = (x for x in string if x.isalpha())\n",
    "print (\"Size of iterator  : \", getsizeof(alpha_lst))\n",
    "print (\"Size of Generator : \", getsizeof(alpha_gen))\n",
    "print (\"Aphabets are : \", \"\".join(alpha_gen) )"
   ]
  },
  {
   "cell_type": "markdown",
   "metadata": {},
   "source": [
    "### Implement a function longestWord() that takes a list of words and returns the longest one."
   ]
  },
  {
   "cell_type": "code",
   "execution_count": 41,
   "metadata": {},
   "outputs": [
    {
     "name": "stdout",
     "output_type": "stream",
     "text": [
      "The Longest Word is :  ['Feburary']\n"
     ]
    }
   ],
   "source": [
    "from functools import reduce\n",
    "\n",
    "# Long Word function\n",
    "def longestWord(word_lst):\n",
    "    return [reduce(lambda x, y: x if len(x)> len(y) else y, word_lst)]\n",
    "\n",
    "# Call the funtion\n",
    "word= [\"January\",\"Feburary\",\"March\",\"April\",\"May\",\"June\",\"July\"]\n",
    "print (\"The Longest Word is : \", longestWord(word))"
   ]
  },
  {
   "cell_type": "code",
   "execution_count": null,
   "metadata": {},
   "outputs": [],
   "source": []
  }
 ],
 "metadata": {
  "kernelspec": {
   "display_name": "Python 3",
   "language": "python",
   "name": "python3"
  },
  "language_info": {
   "codemirror_mode": {
    "name": "ipython",
    "version": 3
   },
   "file_extension": ".py",
   "mimetype": "text/x-python",
   "name": "python",
   "nbconvert_exporter": "python",
   "pygments_lexer": "ipython3",
   "version": "3.7.1"
  }
 },
 "nbformat": 4,
 "nbformat_minor": 2
}
