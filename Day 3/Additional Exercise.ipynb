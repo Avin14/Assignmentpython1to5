{
 "cells": [
  {
   "cell_type": "markdown",
   "metadata": {},
   "source": [
    "### Write a python program which creates a class named Cone and write a function calculate_area which calculates the area of the Cone.\n",
    "\n",
    "Sample Execution:\n",
    "Please enter the radius of the cone: 4\n",
    "Please enter the height of the cone: 5\n",
    "Area of a cone with radius: 4.00 and height: 5.00 is: 83.73"
   ]
  },
  {
   "cell_type": "code",
   "execution_count": 10,
   "metadata": {},
   "outputs": [
    {
     "name": "stdout",
     "output_type": "stream",
     "text": [
      "Please enter the radius of the cone : 12\n",
      "Please enter the height of the cone : 12\n",
      "Area of cone with radius : 12 and height : 12 is : 1092.164485211735\n"
     ]
    }
   ],
   "source": [
    "from math import pi\n",
    "\n",
    "# Define the cone class\n",
    "class cone:\n",
    "    # Define the constructor\n",
    "    def __init__(self, height, radius):\n",
    "        self.height = height\n",
    "        self.radius = radius\n",
    "        \n",
    "    # Define the method that calulates the ared\n",
    "    # πr(r+(h2+r2)** 2)\n",
    "    def areaCalc(self):\n",
    "        return pi * self.radius * (self.radius + (self.height ** 2 + self.radius ** 2) ** 0.5)\n",
    "    \n",
    "# Main section begins here\n",
    "hght = int(input(\"Please enter the radius of the cone : \"))\n",
    "rads = int(input(\"Please enter the height of the cone : \"))\n",
    "# Create an object\n",
    "cone_obj = cone(hght, rads)\n",
    "print (\"Area of cone with radius : {} and height : {} is : {}\".format(hght, rads, cone_obj.areaCalc()))"
   ]
  },
  {
   "cell_type": "markdown",
   "metadata": {},
   "source": [
    "### Define a class MathOperation which implements pow(x,n) without using python's in-built pow() method\n",
    "\n",
    "Sample Execution:\n",
    "M = MathOperation()\n",
    "print(M.pow(2, 3))\n",
    "8\n",
    "print(M.pow(5, -3))\n",
    "0.008\n",
    "print(M.pow(-2, 5))\n",
    "-32\n",
    "print(M.pow(-5, -3))\n",
    "-0.008\n",
    "print(M.pow(20000,0))\n",
    "1"
   ]
  },
  {
   "cell_type": "code",
   "execution_count": 15,
   "metadata": {},
   "outputs": [
    {
     "name": "stdout",
     "output_type": "stream",
     "text": [
      "8\n",
      "0.008\n",
      "-32\n",
      "-0.008\n",
      "1\n"
     ]
    }
   ],
   "source": [
    "class MathOperation:\n",
    "    def __init__(self):\n",
    "        pass\n",
    "        \n",
    "    def pow(self, num1, num2):\n",
    "        return num1 ** num2\n",
    "    \n",
    "# Main section begins here\n",
    "M = MathOperation()\n",
    "print(M.pow(2, 3))\n",
    "print(M.pow(5, -3))\n",
    "print(M.pow(-2, 5))\n",
    "print(M.pow(-5, -3))\n",
    "print(M.pow(20000,0))"
   ]
  },
  {
   "cell_type": "markdown",
   "metadata": {},
   "source": [
    "### Write a python program that creates a class Base and Derived. Use inbuilt function issubclass and isinstance which gives boolean results.(True or False)\n",
    "\n",
    "Check:\n",
    "Derived class is a subclass of Base class which will return true\n",
    "Base class is a subclass of Derived class which will return false\n",
    "Base class is an instance of Derived class which will return false\n",
    "Derived class is an instance of Base class which will return true"
   ]
  },
  {
   "cell_type": "code",
   "execution_count": 27,
   "metadata": {},
   "outputs": [
    {
     "name": "stdout",
     "output_type": "stream",
     "text": [
      "True\n",
      "True\n",
      "True\n",
      "False\n"
     ]
    }
   ],
   "source": [
    "# BAse class\n",
    "class car:\n",
    "    def __init__(self):\n",
    "        pass\n",
    "    \n",
    "class volvo(car):\n",
    "    def __init__(self):\n",
    "        super().__init__()\n",
    "        \n",
    "c = car()\n",
    "v = volvo()\n",
    "\n",
    "print (issubclass(volvo, car))\n",
    "print (isinstance(v, volvo))\n",
    "print (isinstance(v, car))\n",
    "print (isinstance(c, volvo))"
   ]
  },
  {
   "cell_type": "markdown",
   "metadata": {},
   "source": [
    "### Write a python program that creates base class Person which has two methods \n",
    "def __init__(self, first, last)\n",
    "def __str__(self)\n",
    "\n",
    "Also create a derived class named Employee which uses the base class\n",
    "method “def __str__(self)” using “super()” to concatenate first name wit\n",
    "h last name"
   ]
  },
  {
   "cell_type": "code",
   "execution_count": 31,
   "metadata": {},
   "outputs": [
    {
     "name": "stdout",
     "output_type": "stream",
     "text": [
      "Full name is :  Avin Appaiah\n"
     ]
    }
   ],
   "source": [
    "class Person:\n",
    "    # Define the constructor\n",
    "    def __init__(self, first, last):\n",
    "        self.first = first\n",
    "        self.last = last\n",
    "        \n",
    "    def __str__(self):\n",
    "        return self.first + \" \" + self.last\n",
    "    \n",
    "class Employee(Person):\n",
    "    def __init__(self, first, last):\n",
    "        super().__init__(first, last)\n",
    "     \n",
    "        \n",
    "# Main program\n",
    "emp = Employee(\"Avin\", \"Appaiah\")\n",
    "print (\"Full name is : \", emp)"
   ]
  },
  {
   "cell_type": "code",
   "execution_count": null,
   "metadata": {},
   "outputs": [],
   "source": []
  }
 ],
 "metadata": {
  "kernelspec": {
   "display_name": "Python 3",
   "language": "python",
   "name": "python3"
  },
  "language_info": {
   "codemirror_mode": {
    "name": "ipython",
    "version": 3
   },
   "file_extension": ".py",
   "mimetype": "text/x-python",
   "name": "python",
   "nbconvert_exporter": "python",
   "pygments_lexer": "ipython3",
   "version": "3.7.1"
  }
 },
 "nbformat": 4,
 "nbformat_minor": 2
}
