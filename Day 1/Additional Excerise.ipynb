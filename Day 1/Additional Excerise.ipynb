{
 "cells": [
  {
   "cell_type": "markdown",
   "metadata": {},
   "source": [
    "### Write a python program to print from 1 to 6 except 3 and 6"
   ]
  },
  {
   "cell_type": "code",
   "execution_count": 1,
   "metadata": {},
   "outputs": [
    {
     "name": "stdout",
     "output_type": "stream",
     "text": [
      "1 2 4 5 "
     ]
    }
   ],
   "source": [
    "for i in range(1, 7):\n",
    "    # Check if the number is 3 or 6\n",
    "    if (i == 3 or i == 6):\n",
    "        continue\n",
    "    else:\n",
    "        print (i, end=\" \")"
   ]
  },
  {
   "cell_type": "markdown",
   "metadata": {},
   "source": [
    "###  Write a Python program to construct the following pattern, using a nested for loop."
   ]
  },
  {
   "cell_type": "code",
   "execution_count": 2,
   "metadata": {},
   "outputs": [
    {
     "data": {
      "text/plain": [
       "'\\n      *\\n      * *\\n      * * *\\n      * * * *\\n      * * * * *\\n      * * * *\\n      * * *\\n      * *\\n      *\\n'"
      ]
     },
     "execution_count": 2,
     "metadata": {},
     "output_type": "execute_result"
    }
   ],
   "source": [
    "\"\"\"\n",
    "      *\n",
    "      * *\n",
    "      * * *\n",
    "      * * * *\n",
    "      * * * * *\n",
    "      * * * *\n",
    "      * * *\n",
    "      * *\n",
    "      *\n",
    "\"\"\""
   ]
  },
  {
   "cell_type": "code",
   "execution_count": 12,
   "metadata": {},
   "outputs": [
    {
     "name": "stdout",
     "output_type": "stream",
     "text": [
      "      \n",
      "      * \n",
      "      * * \n",
      "      * * * \n",
      "      * * * * \n",
      "      * * * * * \n",
      "      * * * * \n",
      "      * * * \n",
      "      * * \n",
      "      * \n"
     ]
    }
   ],
   "source": [
    "for i in range(6):\n",
    "    #Print the fixed number of spaces followed by asterix\n",
    "    print (\"     \", \"* \" * i)\n",
    "for i in range (4, 0, -1):\n",
    "    # Print in the descending order now\n",
    "    print (\"     \", \"* \" * i)  "
   ]
  },
  {
   "cell_type": "markdown",
   "metadata": {},
   "source": [
    "### Write a python program to print the sum of the first 10 numbers (1 to 10) using while loop"
   ]
  },
  {
   "cell_type": "code",
   "execution_count": 14,
   "metadata": {},
   "outputs": [
    {
     "name": "stdout",
     "output_type": "stream",
     "text": [
      "The Added number is : 55\n"
     ]
    }
   ],
   "source": [
    "n = 10\n",
    "sum = 0\n",
    "# Creating a while loop loop to sum the numbers\n",
    "while n != 0:\n",
    "    # Add the number to the previously added number\n",
    "    sum += n\n",
    "    # decrement the counter by 1\n",
    "    n -=1\n",
    "print (\"The Added number is : {}\".format(sum))"
   ]
  },
  {
   "cell_type": "markdown",
   "metadata": {},
   "source": [
    "### We use break statement to terminate the while loop without completing all the iterations. The program control goes outside the while and the next print statement is executed. Q. Repeat the while using “break” and print the sum of the first 10 integers"
   ]
  },
  {
   "cell_type": "code",
   "execution_count": 15,
   "metadata": {},
   "outputs": [
    {
     "name": "stdout",
     "output_type": "stream",
     "text": [
      "The Added number is : 55\n"
     ]
    }
   ],
   "source": [
    "n = 0\n",
    "sum = 0\n",
    "# Creating a while loop loop to sum the numbers\n",
    "while True:\n",
    "    if n > 10:\n",
    "        break\n",
    "    # Add the number to the previously added number\n",
    "    sum += n\n",
    "    # decrement the counter by 1\n",
    "    n +=1\n",
    "print (\"The Added number is : {}\".format(sum))"
   ]
  },
  {
   "cell_type": "markdown",
   "metadata": {},
   "source": [
    "### Print the whether the number is positive or negative"
   ]
  },
  {
   "cell_type": "code",
   "execution_count": 20,
   "metadata": {},
   "outputs": [
    {
     "name": "stdout",
     "output_type": "stream",
     "text": [
      "Enter a number : -1\n"
     ]
    },
    {
     "data": {
      "text/plain": [
       "'Number is negative'"
      ]
     },
     "execution_count": 20,
     "metadata": {},
     "output_type": "execute_result"
    }
   ],
   "source": [
    "number = int(input(\"Enter a number : \").strip(\" \"))\n",
    "print (\"Number is Positive\") if number >= 0 else (\"Number is negative\")"
   ]
  }
 ],
 "metadata": {
  "kernelspec": {
   "display_name": "Python 3",
   "language": "python",
   "name": "python3"
  },
  "language_info": {
   "codemirror_mode": {
    "name": "ipython",
    "version": 3
   },
   "file_extension": ".py",
   "mimetype": "text/x-python",
   "name": "python",
   "nbconvert_exporter": "python",
   "pygments_lexer": "ipython3",
   "version": "3.7.1"
  }
 },
 "nbformat": 4,
 "nbformat_minor": 2
}
